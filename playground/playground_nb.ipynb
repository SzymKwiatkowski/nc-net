{
 "cells": [
  {
   "cell_type": "code",
   "id": "initial_id",
   "metadata": {
    "collapsed": true
   },
   "source": [
    "import pandas as pd\n",
    "import torch\n",
    "from pathlib import Path"
   ],
   "outputs": [],
   "execution_count": null
  },
  {
   "cell_type": "code",
   "source": [
    "df = pd.read_csv(\"../data/sample_data.csv\")\n",
    "df"
   ],
   "metadata": {
    "collapsed": false
   },
   "id": "c3506f4127e14b56",
   "outputs": [],
   "execution_count": null
  },
  {
   "cell_type": "code",
   "source": [
    "# from models.controller_model import ControllerModel\n",
    "# \n",
    "# model = ControllerModel(in_channels=1, num_classes=5, act=\"elo\")\n",
    "# model(torch.randn(1, 1, 1, 111)).shape"
   ],
   "metadata": {
    "collapsed": false
   },
   "id": "bcbccd4f8aeb6461",
   "outputs": [],
   "execution_count": null
  },
  {
   "cell_type": "code",
   "source": [
    "from datamodules.controller import ControllerDataModule\n",
    "dm = ControllerDataModule(Path(\"../data/data.csv\"), batch_size=16, num_workers=2, train_size=0.7)\n",
    "\n",
    "# display(dm.train_dataset._df)\n",
    "# display(dm.train_dataset._df.columns)"
   ],
   "metadata": {
    "collapsed": false
   },
   "id": "e473a9940bef97d5",
   "outputs": [],
   "execution_count": null
  },
  {
   "metadata": {},
   "cell_type": "code",
   "source": [
    "display(dm.train_dataset._feature_columns[:20])\n",
    "display(dm.train_dataset._target_columns)\n",
    "display(len(dm.train_dataset._df))\n",
    "display(dm.train_dataset._df.columns)"
   ],
   "id": "b09cb24c11b72f2f",
   "outputs": [],
   "execution_count": null
  },
  {
   "cell_type": "code",
   "source": [
    "x, y = dm.train_dataset.__getitem__(1)\n",
    "display(x.shape)\n",
    "display(y.shape)"
   ],
   "metadata": {
    "collapsed": false
   },
   "id": "b735f0adbf7b8657",
   "outputs": [],
   "execution_count": null
  }
 ],
 "metadata": {
  "kernelspec": {
   "display_name": "Python 3",
   "language": "python",
   "name": "python3"
  },
  "language_info": {
   "codemirror_mode": {
    "name": "ipython",
    "version": 2
   },
   "file_extension": ".py",
   "mimetype": "text/x-python",
   "name": "python",
   "nbconvert_exporter": "python",
   "pygments_lexer": "ipython2",
   "version": "2.7.6"
  }
 },
 "nbformat": 4,
 "nbformat_minor": 5
}
