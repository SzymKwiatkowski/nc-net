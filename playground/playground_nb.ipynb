{
 "cells": [
  {
   "cell_type": "code",
   "execution_count": 3,
   "id": "initial_id",
   "metadata": {
    "collapsed": true,
    "ExecuteTime": {
     "end_time": "2024-03-16T23:42:17.017016Z",
     "start_time": "2024-03-16T23:42:17.015102Z"
    }
   },
   "outputs": [],
   "source": [
    "import pandas as pd\n",
    "import torch\n",
    "from pathlib import Path"
   ]
  },
  {
   "cell_type": "code",
   "outputs": [
    {
     "data": {
      "text/plain": "     steering_tire_angle  steering_tire_rotation_rate  acceleration     speed  \\\n0              -0.000000                          1.0      0.000000  0.000000   \n1              -0.000000                          1.0      0.000000  0.000000   \n2              -0.000000                          1.0      0.000000  0.000000   \n3              -0.000000                          1.0      0.000000  0.000000   \n4              -0.000000                          1.0      0.000000  0.000000   \n..                   ...                          ...           ...       ...   \n531             0.036116                          0.0      0.559934  5.741968   \n532             0.036116                          0.0      0.559934  5.741968   \n533             0.037469                          0.0      0.563432  5.668365   \n534             0.037469                          0.0      0.563432  5.668365   \n535             0.037469                          0.0      0.563432  5.668365   \n\n     jerk    pose_x    pose_y    pose_z  orientation_x  orientation_y  ...  \\\n0     0.0 -0.152964 -0.000000  0.057991      -0.000000       0.000490  ...   \n1     0.0 -0.152964 -0.000000  0.057991      -0.000000       0.000490  ...   \n2     0.0 -0.152964 -0.000000  0.057991      -0.000000       0.000490  ...   \n3     0.0 -0.152964 -0.000000  0.057991      -0.000000       0.000490  ...   \n4     0.0 -0.152964 -0.000000  0.057991      -0.000000       0.000490  ...   \n..    ...       ...       ...       ...            ...            ...  ...   \n531   0.0  9.131016 -0.635298  0.057571       0.000605      -0.000913  ...   \n532   0.0  9.185848 -0.630850  0.057571       0.000627      -0.000910  ...   \n533   0.0  9.185848 -0.630850  0.057571       0.000627      -0.000910  ...   \n534   0.0  9.240823 -0.626266  0.057572       0.000654      -0.000906  ...   \n535   0.0  9.295938 -0.621543  0.057572       0.000687      -0.000904  ...   \n\n     point_7_lateral_velocity_mps  point_7_longitudinal_velocity_mps  \\\n0                             0.0                                0.0   \n1                             0.0                                0.0   \n2                             0.0                                0.0   \n3                             0.0                                0.0   \n4                             0.0                                0.0   \n..                            ...                                ...   \n531                           0.0                                0.0   \n532                           0.0                                0.0   \n533                           0.0                                0.0   \n534                           0.0                                0.0   \n535                           0.0                                0.0   \n\n     point_7_rear_wheel_angle_rad  point_7_pos_x  point_7_pos_y  \\\n0                             0.0       0.000000       0.000000   \n1                             0.0       0.000000       0.000000   \n2                             0.0       0.000000       0.000000   \n3                             0.0       0.000000       0.000000   \n4                             0.0       0.000000       0.000000   \n..                            ...            ...            ...   \n531                           0.0      11.457775      -0.235593   \n532                           0.0      11.457775      -0.235593   \n533                           0.0      11.564679      -0.207995   \n534                           0.0      11.564679      -0.207995   \n535                           0.0      11.564679      -0.207995   \n\n     point_7_pos_z  point_7_orientation_x  point_7_orientation_y  \\\n0              0.0                    0.0                    0.0   \n1              0.0                    0.0                    0.0   \n2              0.0                    0.0                    0.0   \n3              0.0                    0.0                    0.0   \n4              0.0                    0.0                    0.0   \n..             ...                    ...                    ...   \n531            0.0                    0.0                    0.0   \n532            0.0                    0.0                    0.0   \n533            0.0                    0.0                    0.0   \n534            0.0                    0.0                    0.0   \n535            0.0                    0.0                    0.0   \n\n     point_7_orientation_z  point_7_orientation_w  \n0                 0.000000               0.000000  \n1                 0.000000               0.000000  \n2                 0.000000               0.000000  \n3                 0.000000               0.000000  \n4                 0.000000               0.000000  \n..                     ...                    ...  \n531               0.138340               0.990385  \n532               0.138340               0.990385  \n533               0.144733               0.989471  \n534               0.144733               0.989471  \n535               0.144733               0.989471  \n\n[536 rows x 116 columns]",
      "text/html": "<div>\n<style scoped>\n    .dataframe tbody tr th:only-of-type {\n        vertical-align: middle;\n    }\n\n    .dataframe tbody tr th {\n        vertical-align: top;\n    }\n\n    .dataframe thead th {\n        text-align: right;\n    }\n</style>\n<table border=\"1\" class=\"dataframe\">\n  <thead>\n    <tr style=\"text-align: right;\">\n      <th></th>\n      <th>steering_tire_angle</th>\n      <th>steering_tire_rotation_rate</th>\n      <th>acceleration</th>\n      <th>speed</th>\n      <th>jerk</th>\n      <th>pose_x</th>\n      <th>pose_y</th>\n      <th>pose_z</th>\n      <th>orientation_x</th>\n      <th>orientation_y</th>\n      <th>...</th>\n      <th>point_7_lateral_velocity_mps</th>\n      <th>point_7_longitudinal_velocity_mps</th>\n      <th>point_7_rear_wheel_angle_rad</th>\n      <th>point_7_pos_x</th>\n      <th>point_7_pos_y</th>\n      <th>point_7_pos_z</th>\n      <th>point_7_orientation_x</th>\n      <th>point_7_orientation_y</th>\n      <th>point_7_orientation_z</th>\n      <th>point_7_orientation_w</th>\n    </tr>\n  </thead>\n  <tbody>\n    <tr>\n      <th>0</th>\n      <td>-0.000000</td>\n      <td>1.0</td>\n      <td>0.000000</td>\n      <td>0.000000</td>\n      <td>0.0</td>\n      <td>-0.152964</td>\n      <td>-0.000000</td>\n      <td>0.057991</td>\n      <td>-0.000000</td>\n      <td>0.000490</td>\n      <td>...</td>\n      <td>0.0</td>\n      <td>0.0</td>\n      <td>0.0</td>\n      <td>0.000000</td>\n      <td>0.000000</td>\n      <td>0.0</td>\n      <td>0.0</td>\n      <td>0.0</td>\n      <td>0.000000</td>\n      <td>0.000000</td>\n    </tr>\n    <tr>\n      <th>1</th>\n      <td>-0.000000</td>\n      <td>1.0</td>\n      <td>0.000000</td>\n      <td>0.000000</td>\n      <td>0.0</td>\n      <td>-0.152964</td>\n      <td>-0.000000</td>\n      <td>0.057991</td>\n      <td>-0.000000</td>\n      <td>0.000490</td>\n      <td>...</td>\n      <td>0.0</td>\n      <td>0.0</td>\n      <td>0.0</td>\n      <td>0.000000</td>\n      <td>0.000000</td>\n      <td>0.0</td>\n      <td>0.0</td>\n      <td>0.0</td>\n      <td>0.000000</td>\n      <td>0.000000</td>\n    </tr>\n    <tr>\n      <th>2</th>\n      <td>-0.000000</td>\n      <td>1.0</td>\n      <td>0.000000</td>\n      <td>0.000000</td>\n      <td>0.0</td>\n      <td>-0.152964</td>\n      <td>-0.000000</td>\n      <td>0.057991</td>\n      <td>-0.000000</td>\n      <td>0.000490</td>\n      <td>...</td>\n      <td>0.0</td>\n      <td>0.0</td>\n      <td>0.0</td>\n      <td>0.000000</td>\n      <td>0.000000</td>\n      <td>0.0</td>\n      <td>0.0</td>\n      <td>0.0</td>\n      <td>0.000000</td>\n      <td>0.000000</td>\n    </tr>\n    <tr>\n      <th>3</th>\n      <td>-0.000000</td>\n      <td>1.0</td>\n      <td>0.000000</td>\n      <td>0.000000</td>\n      <td>0.0</td>\n      <td>-0.152964</td>\n      <td>-0.000000</td>\n      <td>0.057991</td>\n      <td>-0.000000</td>\n      <td>0.000490</td>\n      <td>...</td>\n      <td>0.0</td>\n      <td>0.0</td>\n      <td>0.0</td>\n      <td>0.000000</td>\n      <td>0.000000</td>\n      <td>0.0</td>\n      <td>0.0</td>\n      <td>0.0</td>\n      <td>0.000000</td>\n      <td>0.000000</td>\n    </tr>\n    <tr>\n      <th>4</th>\n      <td>-0.000000</td>\n      <td>1.0</td>\n      <td>0.000000</td>\n      <td>0.000000</td>\n      <td>0.0</td>\n      <td>-0.152964</td>\n      <td>-0.000000</td>\n      <td>0.057991</td>\n      <td>-0.000000</td>\n      <td>0.000490</td>\n      <td>...</td>\n      <td>0.0</td>\n      <td>0.0</td>\n      <td>0.0</td>\n      <td>0.000000</td>\n      <td>0.000000</td>\n      <td>0.0</td>\n      <td>0.0</td>\n      <td>0.0</td>\n      <td>0.000000</td>\n      <td>0.000000</td>\n    </tr>\n    <tr>\n      <th>...</th>\n      <td>...</td>\n      <td>...</td>\n      <td>...</td>\n      <td>...</td>\n      <td>...</td>\n      <td>...</td>\n      <td>...</td>\n      <td>...</td>\n      <td>...</td>\n      <td>...</td>\n      <td>...</td>\n      <td>...</td>\n      <td>...</td>\n      <td>...</td>\n      <td>...</td>\n      <td>...</td>\n      <td>...</td>\n      <td>...</td>\n      <td>...</td>\n      <td>...</td>\n      <td>...</td>\n    </tr>\n    <tr>\n      <th>531</th>\n      <td>0.036116</td>\n      <td>0.0</td>\n      <td>0.559934</td>\n      <td>5.741968</td>\n      <td>0.0</td>\n      <td>9.131016</td>\n      <td>-0.635298</td>\n      <td>0.057571</td>\n      <td>0.000605</td>\n      <td>-0.000913</td>\n      <td>...</td>\n      <td>0.0</td>\n      <td>0.0</td>\n      <td>0.0</td>\n      <td>11.457775</td>\n      <td>-0.235593</td>\n      <td>0.0</td>\n      <td>0.0</td>\n      <td>0.0</td>\n      <td>0.138340</td>\n      <td>0.990385</td>\n    </tr>\n    <tr>\n      <th>532</th>\n      <td>0.036116</td>\n      <td>0.0</td>\n      <td>0.559934</td>\n      <td>5.741968</td>\n      <td>0.0</td>\n      <td>9.185848</td>\n      <td>-0.630850</td>\n      <td>0.057571</td>\n      <td>0.000627</td>\n      <td>-0.000910</td>\n      <td>...</td>\n      <td>0.0</td>\n      <td>0.0</td>\n      <td>0.0</td>\n      <td>11.457775</td>\n      <td>-0.235593</td>\n      <td>0.0</td>\n      <td>0.0</td>\n      <td>0.0</td>\n      <td>0.138340</td>\n      <td>0.990385</td>\n    </tr>\n    <tr>\n      <th>533</th>\n      <td>0.037469</td>\n      <td>0.0</td>\n      <td>0.563432</td>\n      <td>5.668365</td>\n      <td>0.0</td>\n      <td>9.185848</td>\n      <td>-0.630850</td>\n      <td>0.057571</td>\n      <td>0.000627</td>\n      <td>-0.000910</td>\n      <td>...</td>\n      <td>0.0</td>\n      <td>0.0</td>\n      <td>0.0</td>\n      <td>11.564679</td>\n      <td>-0.207995</td>\n      <td>0.0</td>\n      <td>0.0</td>\n      <td>0.0</td>\n      <td>0.144733</td>\n      <td>0.989471</td>\n    </tr>\n    <tr>\n      <th>534</th>\n      <td>0.037469</td>\n      <td>0.0</td>\n      <td>0.563432</td>\n      <td>5.668365</td>\n      <td>0.0</td>\n      <td>9.240823</td>\n      <td>-0.626266</td>\n      <td>0.057572</td>\n      <td>0.000654</td>\n      <td>-0.000906</td>\n      <td>...</td>\n      <td>0.0</td>\n      <td>0.0</td>\n      <td>0.0</td>\n      <td>11.564679</td>\n      <td>-0.207995</td>\n      <td>0.0</td>\n      <td>0.0</td>\n      <td>0.0</td>\n      <td>0.144733</td>\n      <td>0.989471</td>\n    </tr>\n    <tr>\n      <th>535</th>\n      <td>0.037469</td>\n      <td>0.0</td>\n      <td>0.563432</td>\n      <td>5.668365</td>\n      <td>0.0</td>\n      <td>9.295938</td>\n      <td>-0.621543</td>\n      <td>0.057572</td>\n      <td>0.000687</td>\n      <td>-0.000904</td>\n      <td>...</td>\n      <td>0.0</td>\n      <td>0.0</td>\n      <td>0.0</td>\n      <td>11.564679</td>\n      <td>-0.207995</td>\n      <td>0.0</td>\n      <td>0.0</td>\n      <td>0.0</td>\n      <td>0.144733</td>\n      <td>0.989471</td>\n    </tr>\n  </tbody>\n</table>\n<p>536 rows × 116 columns</p>\n</div>"
     },
     "execution_count": 4,
     "metadata": {},
     "output_type": "execute_result"
    }
   ],
   "source": [
    "df = pd.read_csv(\"../data/sample_data.csv\")\n",
    "df"
   ],
   "metadata": {
    "collapsed": false,
    "ExecuteTime": {
     "end_time": "2024-03-16T23:18:48.712644Z",
     "start_time": "2024-03-16T23:18:48.689708Z"
    }
   },
   "id": "c3506f4127e14b56",
   "execution_count": 4
  },
  {
   "cell_type": "code",
   "outputs": [],
   "source": [
    "# from models.controller_model import ControllerModel\n",
    "# \n",
    "# model = ControllerModel(in_channels=1, num_classes=5, act=\"elo\")\n",
    "# model(torch.randn(1, 1, 1, 111)).shape"
   ],
   "metadata": {
    "collapsed": false,
    "ExecuteTime": {
     "end_time": "2024-03-16T23:18:48.715661Z",
     "start_time": "2024-03-16T23:18:48.713621Z"
    }
   },
   "id": "bcbccd4f8aeb6461",
   "execution_count": 5
  },
  {
   "cell_type": "code",
   "outputs": [
    {
     "data": {
      "text/plain": "     steering_tire_angle  steering_tire_rotation_rate  acceleration     speed  \\\n535             0.037469                          0.0      0.563432  5.668365   \n347            -0.043755                          0.0      0.597192  6.066307   \n265             0.130252                          0.0      0.596017  5.647560   \n70             -0.487200                          0.0      0.496600  5.167105   \n316            -0.013991                          0.0      0.595754  5.891356   \n..                   ...                          ...           ...       ...   \n89             -0.464303                          0.0      0.492719  5.167105   \n192             0.099929                          0.0      0.591111  5.348703   \n416            -0.002585                          0.0      0.596721  6.395008   \n451             0.031648                          0.0      0.596884  6.572755   \n407            -0.015557                          0.0      0.593991  6.352875   \n\n     jerk    pose_x    pose_y    pose_z  orientation_x  orientation_y  ...  \\\n535   0.0  9.295938 -0.621543  0.057572       0.000687      -0.000904  ...   \n347   0.0  3.523764 -0.641265  0.057540      -0.000545      -0.001045  ...   \n265   0.0  1.668931 -0.716692  0.057550       0.001508      -0.001054  ...   \n70    0.0 -0.144437  0.000380  0.057309       0.000604      -0.001853  ...   \n316   0.0  2.741611 -0.704428  0.057538       0.000675      -0.001014  ...   \n..    ...       ...       ...       ...            ...            ...  ...   \n89    0.0 -0.110256  0.000209  0.057871       0.000429      -0.000030  ...   \n192   0.0  0.549974 -0.267763  0.057618      -0.000985      -0.000572  ...   \n416   0.0  5.248442 -0.644975  0.057531      -0.000977      -0.001033  ...   \n451   0.0  6.349734 -0.699560  0.057537       0.000638      -0.001049  ...   \n407   0.0  4.958437 -0.633482  0.057530      -0.000076      -0.001063  ...   \n\n     point_7_lateral_velocity_mps  point_7_longitudinal_velocity_mps  \\\n535                           0.0                                0.0   \n347                           0.0                                0.0   \n265                           0.0                                0.0   \n70                            0.0                                0.0   \n316                           0.0                                0.0   \n..                            ...                                ...   \n89                            0.0                                0.0   \n192                           0.0                                0.0   \n416                           0.0                                0.0   \n451                           0.0                                0.0   \n407                           0.0                                0.0   \n\n     point_7_rear_wheel_angle_rad  point_7_pos_x  point_7_pos_y  \\\n535                           0.0      11.564679      -0.207995   \n347                           0.0       5.988789      -0.653998   \n265                           0.0       4.107474      -0.668598   \n70                            0.0       0.000000       0.000000   \n316                           0.0       5.207986      -0.618429   \n..                            ...            ...            ...   \n89                            0.0       0.000000       0.000000   \n192                           0.0       2.894069      -0.908476   \n416                           0.0       7.647992      -0.674330   \n451                           0.0       8.776342      -0.624729   \n407                           0.0       7.406632      -0.676345   \n\n     point_7_pos_z  point_7_orientation_x  point_7_orientation_y  \\\n535            0.0                    0.0                    0.0   \n347            0.0                    0.0                    0.0   \n265            0.0                    0.0                    0.0   \n70             0.0                    0.0                    0.0   \n316            0.0                    0.0                    0.0   \n..             ...                    ...                    ...   \n89             0.0                    0.0                    0.0   \n192            0.0                    0.0                    0.0   \n416            0.0                    0.0                    0.0   \n451            0.0                    0.0                    0.0   \n407            0.0                    0.0                    0.0   \n\n     point_7_orientation_z  point_7_orientation_w  \n535               0.144733               0.989471  \n347              -0.003221               0.999995  \n265               0.006916               0.999976  \n70                0.000000               0.000000  \n316              -0.005262               0.999986  \n..                     ...                    ...  \n89                0.000000               0.000000  \n192               0.005387               0.999985  \n416               0.014736               0.999891  \n451               0.039450               0.999222  \n407               0.010291               0.999947  \n\n[81 rows x 116 columns]",
      "text/html": "<div>\n<style scoped>\n    .dataframe tbody tr th:only-of-type {\n        vertical-align: middle;\n    }\n\n    .dataframe tbody tr th {\n        vertical-align: top;\n    }\n\n    .dataframe thead th {\n        text-align: right;\n    }\n</style>\n<table border=\"1\" class=\"dataframe\">\n  <thead>\n    <tr style=\"text-align: right;\">\n      <th></th>\n      <th>steering_tire_angle</th>\n      <th>steering_tire_rotation_rate</th>\n      <th>acceleration</th>\n      <th>speed</th>\n      <th>jerk</th>\n      <th>pose_x</th>\n      <th>pose_y</th>\n      <th>pose_z</th>\n      <th>orientation_x</th>\n      <th>orientation_y</th>\n      <th>...</th>\n      <th>point_7_lateral_velocity_mps</th>\n      <th>point_7_longitudinal_velocity_mps</th>\n      <th>point_7_rear_wheel_angle_rad</th>\n      <th>point_7_pos_x</th>\n      <th>point_7_pos_y</th>\n      <th>point_7_pos_z</th>\n      <th>point_7_orientation_x</th>\n      <th>point_7_orientation_y</th>\n      <th>point_7_orientation_z</th>\n      <th>point_7_orientation_w</th>\n    </tr>\n  </thead>\n  <tbody>\n    <tr>\n      <th>535</th>\n      <td>0.037469</td>\n      <td>0.0</td>\n      <td>0.563432</td>\n      <td>5.668365</td>\n      <td>0.0</td>\n      <td>9.295938</td>\n      <td>-0.621543</td>\n      <td>0.057572</td>\n      <td>0.000687</td>\n      <td>-0.000904</td>\n      <td>...</td>\n      <td>0.0</td>\n      <td>0.0</td>\n      <td>0.0</td>\n      <td>11.564679</td>\n      <td>-0.207995</td>\n      <td>0.0</td>\n      <td>0.0</td>\n      <td>0.0</td>\n      <td>0.144733</td>\n      <td>0.989471</td>\n    </tr>\n    <tr>\n      <th>347</th>\n      <td>-0.043755</td>\n      <td>0.0</td>\n      <td>0.597192</td>\n      <td>6.066307</td>\n      <td>0.0</td>\n      <td>3.523764</td>\n      <td>-0.641265</td>\n      <td>0.057540</td>\n      <td>-0.000545</td>\n      <td>-0.001045</td>\n      <td>...</td>\n      <td>0.0</td>\n      <td>0.0</td>\n      <td>0.0</td>\n      <td>5.988789</td>\n      <td>-0.653998</td>\n      <td>0.0</td>\n      <td>0.0</td>\n      <td>0.0</td>\n      <td>-0.003221</td>\n      <td>0.999995</td>\n    </tr>\n    <tr>\n      <th>265</th>\n      <td>0.130252</td>\n      <td>0.0</td>\n      <td>0.596017</td>\n      <td>5.647560</td>\n      <td>0.0</td>\n      <td>1.668931</td>\n      <td>-0.716692</td>\n      <td>0.057550</td>\n      <td>0.001508</td>\n      <td>-0.001054</td>\n      <td>...</td>\n      <td>0.0</td>\n      <td>0.0</td>\n      <td>0.0</td>\n      <td>4.107474</td>\n      <td>-0.668598</td>\n      <td>0.0</td>\n      <td>0.0</td>\n      <td>0.0</td>\n      <td>0.006916</td>\n      <td>0.999976</td>\n    </tr>\n    <tr>\n      <th>70</th>\n      <td>-0.487200</td>\n      <td>0.0</td>\n      <td>0.496600</td>\n      <td>5.167105</td>\n      <td>0.0</td>\n      <td>-0.144437</td>\n      <td>0.000380</td>\n      <td>0.057309</td>\n      <td>0.000604</td>\n      <td>-0.001853</td>\n      <td>...</td>\n      <td>0.0</td>\n      <td>0.0</td>\n      <td>0.0</td>\n      <td>0.000000</td>\n      <td>0.000000</td>\n      <td>0.0</td>\n      <td>0.0</td>\n      <td>0.0</td>\n      <td>0.000000</td>\n      <td>0.000000</td>\n    </tr>\n    <tr>\n      <th>316</th>\n      <td>-0.013991</td>\n      <td>0.0</td>\n      <td>0.595754</td>\n      <td>5.891356</td>\n      <td>0.0</td>\n      <td>2.741611</td>\n      <td>-0.704428</td>\n      <td>0.057538</td>\n      <td>0.000675</td>\n      <td>-0.001014</td>\n      <td>...</td>\n      <td>0.0</td>\n      <td>0.0</td>\n      <td>0.0</td>\n      <td>5.207986</td>\n      <td>-0.618429</td>\n      <td>0.0</td>\n      <td>0.0</td>\n      <td>0.0</td>\n      <td>-0.005262</td>\n      <td>0.999986</td>\n    </tr>\n    <tr>\n      <th>...</th>\n      <td>...</td>\n      <td>...</td>\n      <td>...</td>\n      <td>...</td>\n      <td>...</td>\n      <td>...</td>\n      <td>...</td>\n      <td>...</td>\n      <td>...</td>\n      <td>...</td>\n      <td>...</td>\n      <td>...</td>\n      <td>...</td>\n      <td>...</td>\n      <td>...</td>\n      <td>...</td>\n      <td>...</td>\n      <td>...</td>\n      <td>...</td>\n      <td>...</td>\n      <td>...</td>\n    </tr>\n    <tr>\n      <th>89</th>\n      <td>-0.464303</td>\n      <td>0.0</td>\n      <td>0.492719</td>\n      <td>5.167105</td>\n      <td>0.0</td>\n      <td>-0.110256</td>\n      <td>0.000209</td>\n      <td>0.057871</td>\n      <td>0.000429</td>\n      <td>-0.000030</td>\n      <td>...</td>\n      <td>0.0</td>\n      <td>0.0</td>\n      <td>0.0</td>\n      <td>0.000000</td>\n      <td>0.000000</td>\n      <td>0.0</td>\n      <td>0.0</td>\n      <td>0.0</td>\n      <td>0.000000</td>\n      <td>0.000000</td>\n    </tr>\n    <tr>\n      <th>192</th>\n      <td>0.099929</td>\n      <td>0.0</td>\n      <td>0.591111</td>\n      <td>5.348703</td>\n      <td>0.0</td>\n      <td>0.549974</td>\n      <td>-0.267763</td>\n      <td>0.057618</td>\n      <td>-0.000985</td>\n      <td>-0.000572</td>\n      <td>...</td>\n      <td>0.0</td>\n      <td>0.0</td>\n      <td>0.0</td>\n      <td>2.894069</td>\n      <td>-0.908476</td>\n      <td>0.0</td>\n      <td>0.0</td>\n      <td>0.0</td>\n      <td>0.005387</td>\n      <td>0.999985</td>\n    </tr>\n    <tr>\n      <th>416</th>\n      <td>-0.002585</td>\n      <td>0.0</td>\n      <td>0.596721</td>\n      <td>6.395008</td>\n      <td>0.0</td>\n      <td>5.248442</td>\n      <td>-0.644975</td>\n      <td>0.057531</td>\n      <td>-0.000977</td>\n      <td>-0.001033</td>\n      <td>...</td>\n      <td>0.0</td>\n      <td>0.0</td>\n      <td>0.0</td>\n      <td>7.647992</td>\n      <td>-0.674330</td>\n      <td>0.0</td>\n      <td>0.0</td>\n      <td>0.0</td>\n      <td>0.014736</td>\n      <td>0.999891</td>\n    </tr>\n    <tr>\n      <th>451</th>\n      <td>0.031648</td>\n      <td>0.0</td>\n      <td>0.596884</td>\n      <td>6.572755</td>\n      <td>0.0</td>\n      <td>6.349734</td>\n      <td>-0.699560</td>\n      <td>0.057537</td>\n      <td>0.000638</td>\n      <td>-0.001049</td>\n      <td>...</td>\n      <td>0.0</td>\n      <td>0.0</td>\n      <td>0.0</td>\n      <td>8.776342</td>\n      <td>-0.624729</td>\n      <td>0.0</td>\n      <td>0.0</td>\n      <td>0.0</td>\n      <td>0.039450</td>\n      <td>0.999222</td>\n    </tr>\n    <tr>\n      <th>407</th>\n      <td>-0.015557</td>\n      <td>0.0</td>\n      <td>0.593991</td>\n      <td>6.352875</td>\n      <td>0.0</td>\n      <td>4.958437</td>\n      <td>-0.633482</td>\n      <td>0.057530</td>\n      <td>-0.000076</td>\n      <td>-0.001063</td>\n      <td>...</td>\n      <td>0.0</td>\n      <td>0.0</td>\n      <td>0.0</td>\n      <td>7.406632</td>\n      <td>-0.676345</td>\n      <td>0.0</td>\n      <td>0.0</td>\n      <td>0.0</td>\n      <td>0.010291</td>\n      <td>0.999947</td>\n    </tr>\n  </tbody>\n</table>\n<p>81 rows × 116 columns</p>\n</div>"
     },
     "metadata": {},
     "output_type": "display_data"
    },
    {
     "data": {
      "text/plain": "['point_4_lateral_velocity_mps',\n 'orientation_x',\n 'point_1_front_wheel_angle_rad',\n 'point_5_pos_x',\n 'point_3_lateral_velocity_mps',\n 'point_5_front_wheel_angle_rad',\n 'point_1_rear_wheel_angle_rad',\n 'point_3_orientation_x',\n 'point_0_pos_z',\n 'point_3_front_wheel_angle_rad',\n 'point_4_acceleration_mps2',\n 'point_5_heading_rate_rps',\n 'point_1_heading_rate_rps',\n 'point_5_pos_y',\n 'point_0_acceleration_mps2',\n 'point_0_orientation_z',\n 'point_7_rear_wheel_angle_rad',\n 'point_4_front_wheel_angle_rad',\n 'point_3_orientation_y',\n 'pose_y',\n 'point_0_heading_rate_rps',\n 'point_7_orientation_y',\n 'pose_x',\n 'point_6_acceleration_mps2',\n 'point_7_orientation_z',\n 'point_1_orientation_w',\n 'point_4_pos_z',\n 'point_3_orientation_z',\n 'point_2_orientation_x',\n 'point_5_orientation_x',\n 'point_2_lateral_velocity_mps',\n 'point_7_orientation_w',\n 'point_2_longitudinal_velocity_mps',\n 'point_1_orientation_y',\n 'point_6_pos_x',\n 'point_5_longitudinal_velocity_mps',\n 'point_4_rear_wheel_angle_rad',\n 'point_6_heading_rate_rps',\n 'point_6_longitudinal_velocity_mps',\n 'point_0_rear_wheel_angle_rad',\n 'orientation_y',\n 'point_5_rear_wheel_angle_rad',\n 'point_6_lateral_velocity_mps',\n 'point_2_orientation_z',\n 'point_7_orientation_x',\n 'orientation_z',\n 'orientation_w',\n 'point_1_orientation_x',\n 'point_6_orientation_w',\n 'point_0_lateral_velocity_mps',\n 'point_7_pos_x',\n 'point_5_orientation_w',\n 'point_0_orientation_x',\n 'point_3_acceleration_mps2',\n 'point_4_pos_x',\n 'point_2_heading_rate_rps',\n 'point_3_pos_x',\n 'point_1_acceleration_mps2',\n 'point_4_orientation_y',\n 'point_6_front_wheel_angle_rad',\n 'point_6_pos_z',\n 'point_6_orientation_y',\n 'point_5_orientation_z',\n 'point_1_lateral_velocity_mps',\n 'point_4_orientation_x',\n 'point_3_heading_rate_rps',\n 'point_0_pos_x',\n 'point_7_front_wheel_angle_rad',\n 'point_7_lateral_velocity_mps',\n 'point_4_longitudinal_velocity_mps',\n 'point_6_rear_wheel_angle_rad',\n 'point_2_rear_wheel_angle_rad',\n 'point_7_pos_y',\n 'point_6_orientation_z',\n 'point_1_pos_y',\n 'point_4_pos_y',\n 'point_5_acceleration_mps2',\n 'point_1_longitudinal_velocity_mps',\n 'point_2_front_wheel_angle_rad',\n 'point_0_longitudinal_velocity_mps',\n 'point_2_orientation_y',\n 'point_1_orientation_z',\n 'point_6_pos_y',\n 'point_6_orientation_x',\n 'point_2_pos_z',\n 'point_0_front_wheel_angle_rad',\n 'point_0_orientation_w',\n 'point_3_pos_y',\n 'point_7_acceleration_mps2',\n 'point_2_pos_y',\n 'point_0_pos_y',\n 'point_3_pos_z',\n 'point_3_rear_wheel_angle_rad',\n 'point_4_orientation_z',\n 'point_4_heading_rate_rps',\n 'point_2_acceleration_mps2',\n 'point_1_pos_x',\n 'point_3_longitudinal_velocity_mps',\n 'pose_z',\n 'point_5_lateral_velocity_mps',\n 'point_5_orientation_y',\n 'point_2_orientation_w',\n 'point_7_pos_z',\n 'point_7_heading_rate_rps',\n 'point_0_orientation_y',\n 'point_7_longitudinal_velocity_mps',\n 'point_1_pos_z',\n 'point_5_pos_z',\n 'point_2_pos_x',\n 'point_4_orientation_w',\n 'point_3_orientation_w']"
     },
     "metadata": {},
     "output_type": "display_data"
    },
    {
     "data": {
      "text/plain": "['steering_tire_angle',\n 'steering_tire_rotation_rate',\n 'acceleration',\n 'speed',\n 'jerk']"
     },
     "metadata": {},
     "output_type": "display_data"
    },
    {
     "data": {
      "text/plain": "81"
     },
     "metadata": {},
     "output_type": "display_data"
    }
   ],
   "source": [
    "from datamodules.controller import ControllerDataModule\n",
    "dm = ControllerDataModule(Path(\"../data/sample_data.csv\"), batch_size=16, num_workers=2, train_size=0.7)\n",
    "\n",
    "display(dm.train_dataset._df)\n",
    "display(dm.train_dataset._feature_columns)\n",
    "display(dm.train_dataset._target_columns)\n",
    "display(len(dm.train_dataset._df))\n",
    "# display(dm.train_dataset._df.columns)"
   ],
   "metadata": {
    "collapsed": false,
    "ExecuteTime": {
     "end_time": "2024-03-16T23:42:19.103703Z",
     "start_time": "2024-03-16T23:42:19.073361Z"
    }
   },
   "id": "e473a9940bef97d5",
   "execution_count": 4
  },
  {
   "cell_type": "code",
   "outputs": [
    {
     "data": {
      "text/plain": "torch.Size([1, 111])"
     },
     "metadata": {},
     "output_type": "display_data"
    },
    {
     "data": {
      "text/plain": "torch.Size([5])"
     },
     "metadata": {},
     "output_type": "display_data"
    }
   ],
   "source": [
    "x, y = dm.train_dataset.__getitem__(1)\n",
    "display(x.shape)\n",
    "display(y.shape)"
   ],
   "metadata": {
    "collapsed": false,
    "ExecuteTime": {
     "end_time": "2024-03-16T23:42:23.804331Z",
     "start_time": "2024-03-16T23:42:23.799675Z"
    }
   },
   "id": "b735f0adbf7b8657",
   "execution_count": 5
  }
 ],
 "metadata": {
  "kernelspec": {
   "display_name": "Python 3",
   "language": "python",
   "name": "python3"
  },
  "language_info": {
   "codemirror_mode": {
    "name": "ipython",
    "version": 2
   },
   "file_extension": ".py",
   "mimetype": "text/x-python",
   "name": "python",
   "nbconvert_exporter": "python",
   "pygments_lexer": "ipython2",
   "version": "2.7.6"
  }
 },
 "nbformat": 4,
 "nbformat_minor": 5
}
